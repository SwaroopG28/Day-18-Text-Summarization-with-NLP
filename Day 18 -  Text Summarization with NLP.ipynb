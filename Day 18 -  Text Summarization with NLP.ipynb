{
 "cells": [
  {
   "cell_type": "markdown",
   "id": "d5659682",
   "metadata": {},
   "source": [
    "#  Text Summarization with NLP"
   ]
  },
  {
   "cell_type": "code",
   "execution_count": 1,
   "id": "4bdcfe28",
   "metadata": {},
   "outputs": [
    {
     "name": "stderr",
     "output_type": "stream",
     "text": [
      "C:\\Users\\swaro\\anaconda3\\Lib\\site-packages\\pandas\\core\\arrays\\masked.py:60: UserWarning: Pandas requires version '1.3.6' or newer of 'bottleneck' (version '1.3.5' currently installed).\n",
      "  from pandas.core import (\n"
     ]
    }
   ],
   "source": [
    "# Import necessary libraries\n",
    "import nltk\n",
    "from nltk.corpus import stopwords\n",
    "from nltk.tokenize import word_tokenize, sent_tokenize\n",
    "from string import punctuation\n",
    "from heapq import nlargest"
   ]
  },
  {
   "cell_type": "code",
   "execution_count": 2,
   "id": "0cd1c2ed",
   "metadata": {},
   "outputs": [
    {
     "name": "stderr",
     "output_type": "stream",
     "text": [
      "[nltk_data] Downloading package punkt to\n",
      "[nltk_data]     C:\\Users\\swaro\\AppData\\Roaming\\nltk_data...\n",
      "[nltk_data]   Package punkt is already up-to-date!\n",
      "[nltk_data] Downloading package stopwords to\n",
      "[nltk_data]     C:\\Users\\swaro\\AppData\\Roaming\\nltk_data...\n",
      "[nltk_data]   Package stopwords is already up-to-date!\n"
     ]
    },
    {
     "data": {
      "text/plain": [
       "True"
      ]
     },
     "execution_count": 2,
     "metadata": {},
     "output_type": "execute_result"
    }
   ],
   "source": [
    "# Download required NLTK resources (run this only once)\n",
    "nltk.download('punkt')\n",
    "nltk.download('stopwords')"
   ]
  },
  {
   "cell_type": "code",
   "execution_count": 3,
   "id": "64366cbb",
   "metadata": {},
   "outputs": [],
   "source": [
    "# Input text for summarization\n",
    "text = \"\"\"\n",
    "Artificial Intelligence (AI) is a field of computer science that aims to create machines that can perform tasks \n",
    "that would typically require human intelligence. Some common applications of AI include speech recognition, \n",
    "decision-making, visual perception, and language translation. Over the years, AI has made significant advancements \n",
    "and is now being integrated into various industries such as healthcare, finance, and transportation. However, \n",
    "the rapid development of AI also raises ethical concerns regarding job displacement, data privacy, and the potential \n",
    "for misuse of technology. Despite these challenges, AI continues to revolutionize the way we live and work, making \n",
    "it one of the most exciting and transformative fields of study in the modern era.\n",
    "\"\"\""
   ]
  },
  {
   "cell_type": "code",
   "execution_count": 4,
   "id": "530d67c4",
   "metadata": {},
   "outputs": [],
   "source": [
    "# Tokenize the text into sentences\n",
    "sentences = sent_tokenize(text)"
   ]
  },
  {
   "cell_type": "code",
   "execution_count": 5,
   "id": "da3150c8",
   "metadata": {},
   "outputs": [],
   "source": [
    "# Create a list of stopwords\n",
    "stop_words = set(stopwords.words('english'))"
   ]
  },
  {
   "cell_type": "code",
   "execution_count": 6,
   "id": "c0bb7bb6",
   "metadata": {},
   "outputs": [],
   "source": [
    "# Preprocess the text\n",
    "word_frequencies = {}\n",
    "for word in word_tokenize(text.lower()):\n",
    "    if word not in stop_words and word not in punctuation:\n",
    "        if word not in word_frequencies:\n",
    "            word_frequencies[word] = 1\n",
    "        else:\n",
    "            word_frequencies[word] += 1"
   ]
  },
  {
   "cell_type": "code",
   "execution_count": 7,
   "id": "504b8bd3",
   "metadata": {},
   "outputs": [],
   "source": [
    "# Normalize word frequencies\n",
    "max_frequency = max(word_frequencies.values())\n",
    "for word in word_frequencies:\n",
    "    word_frequencies[word] /= max_frequency"
   ]
  },
  {
   "cell_type": "code",
   "execution_count": 8,
   "id": "3ee2b920",
   "metadata": {},
   "outputs": [],
   "source": [
    "# Score sentences based on word frequencies\n",
    "sentence_scores = {}\n",
    "for sentence in sentences:\n",
    "    for word in word_tokenize(sentence.lower()):\n",
    "        if word in word_frequencies:\n",
    "            if sentence not in sentence_scores:\n",
    "                sentence_scores[sentence] = word_frequencies[word]\n",
    "            else:\n",
    "                sentence_scores[sentence] += word_frequencies[word]"
   ]
  },
  {
   "cell_type": "code",
   "execution_count": 9,
   "id": "21af6655",
   "metadata": {},
   "outputs": [],
   "source": [
    "# Extract the top sentences for the summary\n",
    "summary_length = 2  # Number of sentences in the summary\n",
    "summary_sentences = nlargest(summary_length, sentence_scores, key=sentence_scores.get)"
   ]
  },
  {
   "cell_type": "code",
   "execution_count": 10,
   "id": "25c99eb5",
   "metadata": {},
   "outputs": [],
   "source": [
    "# Join the selected sentences to form the summary\n",
    "summary = \" \".join(summary_sentences)"
   ]
  },
  {
   "cell_type": "code",
   "execution_count": 11,
   "id": "f36df249",
   "metadata": {},
   "outputs": [
    {
     "name": "stdout",
     "output_type": "stream",
     "text": [
      "Original Text:\n",
      "\n",
      "\n",
      "Artificial Intelligence (AI) is a field of computer science that aims to create machines that can perform tasks \n",
      "that would typically require human intelligence. Some common applications of AI include speech recognition, \n",
      "decision-making, visual perception, and language translation. Over the years, AI has made significant advancements \n",
      "and is now being integrated into various industries such as healthcare, finance, and transportation. However, \n",
      "the rapid development of AI also raises ethical concerns regarding job displacement, data privacy, and the potential \n",
      "for misuse of technology. Despite these challenges, AI continues to revolutionize the way we live and work, making \n",
      "it one of the most exciting and transformative fields of study in the modern era.\n",
      "\n",
      "\n",
      "Summarized Text:\n",
      "\n",
      "\n",
      "Artificial Intelligence (AI) is a field of computer science that aims to create machines that can perform tasks \n",
      "that would typically require human intelligence. However, \n",
      "the rapid development of AI also raises ethical concerns regarding job displacement, data privacy, and the potential \n",
      "for misuse of technology.\n"
     ]
    }
   ],
   "source": [
    "# Print the original text and the summary\n",
    "print(\"Original Text:\\n\")\n",
    "print(text)\n",
    "print(\"\\nSummarized Text:\\n\")\n",
    "print(summary)"
   ]
  }
 ],
 "metadata": {
  "kernelspec": {
   "display_name": "Python 3 (ipykernel)",
   "language": "python",
   "name": "python3"
  },
  "language_info": {
   "codemirror_mode": {
    "name": "ipython",
    "version": 3
   },
   "file_extension": ".py",
   "mimetype": "text/x-python",
   "name": "python",
   "nbconvert_exporter": "python",
   "pygments_lexer": "ipython3",
   "version": "3.11.4"
  }
 },
 "nbformat": 4,
 "nbformat_minor": 5
}
